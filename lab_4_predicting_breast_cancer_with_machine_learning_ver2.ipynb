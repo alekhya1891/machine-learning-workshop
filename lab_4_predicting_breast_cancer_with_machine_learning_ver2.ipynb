{
 "cells": [
  {
   "cell_type": "code",
   "execution_count": 1,
   "metadata": {},
   "outputs": [],
   "source": [
    "import pandas as pd\n",
    "import seaborn as sns"
   ]
  },
  {
   "cell_type": "code",
   "execution_count": 7,
   "metadata": {},
   "outputs": [],
   "source": [
    "train = pd.read_csv(\"data_sets/lab_4_train.csv\")\n",
    "test = pd.read_csv(\"data_sets/lab_4_test.csv\")"
   ]
  },
  {
   "cell_type": "code",
   "execution_count": 5,
   "metadata": {},
   "outputs": [
    {
     "name": "stderr",
     "output_type": "stream",
     "text": [
      "/srv/conda/lib/python3.6/site-packages/sklearn/linear_model/logistic.py:433: FutureWarning: Default solver will be changed to 'lbfgs' in 0.22. Specify a solver to silence this warning.\n",
      "  FutureWarning)\n"
     ]
    },
    {
     "data": {
      "text/plain": [
       "LogisticRegression(C=1.0, class_weight=None, dual=False, fit_intercept=True,\n",
       "          intercept_scaling=1, max_iter=100, multi_class='warn',\n",
       "          n_jobs=None, penalty='l2', random_state=None, solver='warn',\n",
       "          tol=0.0001, verbose=0, warm_start=False)"
      ]
     },
     "execution_count": 5,
     "metadata": {},
     "output_type": "execute_result"
    }
   ],
   "source": [
    "from sklearn.linear_model import LogisticRegression\n",
    "from sklearn import metrics\n",
    "\n",
    "features = train.columns.tolist()\n",
    "features.remove('diagnosis')\n",
    "logreg = LogisticRegression()\n",
    "logreg.fit(train[features], train['diagnosis'])"
   ]
  },
  {
   "cell_type": "code",
   "execution_count": 8,
   "metadata": {},
   "outputs": [
    {
     "name": "stdout",
     "output_type": "stream",
     "text": [
      "Accuracy of logistic regression classifier on test set: 0.88\n"
     ]
    }
   ],
   "source": [
    "y_pred = logreg.predict(test[features])\n",
    "print('Accuracy of logistic regression classifier on test set: {:.2f}'.format(logreg.score(test[features], test['diagnosis'])))\n"
   ]
  },
  {
   "cell_type": "code",
   "execution_count": 9,
   "metadata": {},
   "outputs": [
    {
     "name": "stdout",
     "output_type": "stream",
     "text": [
      "              precision    recall  f1-score   support\n",
      "\n",
      "           B       0.85      0.98      0.91        90\n",
      "           M       0.95      0.72      0.82        53\n",
      "\n",
      "   micro avg       0.88      0.88      0.88       143\n",
      "   macro avg       0.90      0.85      0.86       143\n",
      "weighted avg       0.89      0.88      0.88       143\n",
      "\n"
     ]
    }
   ],
   "source": [
    "from sklearn.metrics import classification_report\n",
    "print(classification_report(test['diagnosis'], y_pred))"
   ]
  },
  {
   "cell_type": "code",
   "execution_count": 14,
   "metadata": {},
   "outputs": [
    {
     "name": "stdout",
     "output_type": "stream",
     "text": [
      "['M' 'B' 'M' 'B' 'M' 'B' 'B' 'B' 'B' 'M' 'B' 'M' 'B' 'B' 'B' 'B' 'B' 'B'\n",
      " 'B' 'M' 'B' 'B' 'B' 'M' 'M' 'M' 'M' 'B' 'B' 'B' 'B' 'M' 'B' 'B' 'B' 'B'\n",
      " 'B' 'M' 'B' 'M' 'B' 'M' 'B' 'B' 'M' 'M' 'B' 'M' 'B' 'M' 'B' 'B' 'B' 'B'\n",
      " 'B' 'B' 'B' 'B' 'B' 'B' 'M' 'B' 'B' 'B' 'B' 'M' 'B' 'B' 'B' 'M' 'B' 'B'\n",
      " 'B' 'M' 'B' 'B' 'B' 'B' 'B' 'M' 'B' 'B' 'M' 'M' 'B' 'B' 'B' 'B' 'M' 'M'\n",
      " 'M' 'B' 'B' 'B' 'B' 'B' 'B' 'B' 'B' 'M' 'B' 'B' 'B' 'M' 'B' 'B' 'M' 'M'\n",
      " 'B' 'B' 'B' 'B' 'B' 'B' 'M' 'B' 'M' 'B' 'B' 'B' 'B' 'M' 'B' 'B' 'B' 'M'\n",
      " 'M' 'B' 'B' 'M' 'B' 'B' 'B' 'B' 'B' 'B' 'B' 'M' 'M' 'B' 'B' 'B' 'B']\n",
      "[0.69174532 0.21630682 0.93306727 0.1563099  0.50221055 0.15139429\n",
      " 0.42859194 0.25942376 0.17502368 0.5004654  0.4917339  0.80845612\n",
      " 0.31104118 0.07414313 0.20170764 0.17745148 0.13314245 0.03312465\n",
      " 0.11194771 0.57107104 0.07467097 0.40511783 0.19718065 0.96638372\n",
      " 0.63241268 0.8102963  0.98944725 0.2215608  0.10011527 0.01083375\n",
      " 0.06062032 0.9499977  0.02999903 0.25531071 0.09845838 0.07638722\n",
      " 0.23928989 0.92389248 0.06577648 0.96423408 0.10454144 0.85454904\n",
      " 0.25223812 0.01921425 0.96447792 0.99722508 0.21772614 0.60878146\n",
      " 0.03483958 0.74864853 0.37045886 0.17667367 0.39138125 0.06838414\n",
      " 0.16710747 0.04958979 0.1315577  0.16379057 0.08411859 0.16851129\n",
      " 0.83164979 0.13015901 0.31878945 0.17167129 0.05071331 0.92640088\n",
      " 0.20267009 0.23036244 0.32921106 0.61490991 0.11249222 0.05831414\n",
      " 0.25212687 0.6636497  0.15266683 0.21325923 0.30259308 0.0859993\n",
      " 0.26479597 0.51295399 0.46798257 0.33272815 0.53164273 0.98785619\n",
      " 0.06992135 0.15630868 0.19585119 0.26461824 0.71925819 0.9378101\n",
      " 0.96655997 0.07230594 0.1816939  0.23659261 0.16371116 0.04651736\n",
      " 0.10411774 0.09068995 0.08573138 0.86643463 0.27961498 0.12186754\n",
      " 0.1234245  0.84953643 0.24673049 0.36058321 0.81627331 0.94307256\n",
      " 0.07926728 0.32706167 0.04418858 0.35403143 0.28119196 0.07863229\n",
      " 0.96639467 0.20131394 0.57298167 0.0762316  0.1714247  0.10246568\n",
      " 0.14886688 0.91970934 0.1493803  0.20137595 0.14670382 0.98022264\n",
      " 0.84641504 0.25896026 0.25780698 0.78675653 0.491974   0.42866792\n",
      " 0.07937264 0.15305592 0.12409377 0.47845176 0.11223819 0.76216144\n",
      " 0.54386684 0.39383083 0.3038037  0.06561286 0.20151794]\n"
     ]
    }
   ],
   "source": [
    "from sklearn.metrics import roc_auc_score\n",
    "from sklearn.metrics import roc_curve\n",
    "predictions_class = logreg.predict(test[features])\n",
    "print(predictions_class)\n",
    "print(test['diagnosis'])\n",
    "predictions_probability = logreg.predict_proba(test[features])[:,1]\n",
    "print(predictions_probability)\n",
    "\n",
    "logit_roc_auc = roc_auc_score(test['diagnosis'], predictions_probability)\n",
    "fpr, tpr, thresholds = roc_curve(test['diagnosis'], predictions_class)\n",
    "plt.figure()\n",
    "plt.plot(fpr, tpr, label='Logistic Regression (area = %0.2f)' % logit_roc_auc)\n",
    "plt.plot([0, 1], [0, 1],'r--')\n",
    "plt.xlim([0.0, 1.0])\n",
    "plt.ylim([0.0, 1.05])\n",
    "plt.xlabel('False Positive Rate')\n",
    "plt.ylabel('True Positive Rate')\n",
    "plt.title('Receiver operating characteristic')\n",
    "plt.legend(loc=\"lower right\")\n",
    "plt.savefig('Log_ROC')\n",
    "plt.show()"
   ]
  },
  {
   "cell_type": "code",
   "execution_count": null,
   "metadata": {},
   "outputs": [],
   "source": []
  }
 ],
 "metadata": {
  "kernelspec": {
   "display_name": "Python 3",
   "language": "python",
   "name": "python3"
  },
  "language_info": {
   "codemirror_mode": {
    "name": "ipython",
    "version": 3
   },
   "file_extension": ".py",
   "mimetype": "text/x-python",
   "name": "python",
   "nbconvert_exporter": "python",
   "pygments_lexer": "ipython3",
   "version": "3.6.7"
  }
 },
 "nbformat": 4,
 "nbformat_minor": 1
}
