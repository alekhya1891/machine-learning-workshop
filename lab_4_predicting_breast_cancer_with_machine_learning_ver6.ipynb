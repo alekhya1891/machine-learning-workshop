{
 "cells": [
  {
   "cell_type": "code",
   "execution_count": 76,
   "metadata": {},
   "outputs": [],
   "source": [
    "import pandas as pd\n",
    "import seaborn as sns\n",
    "import matplotlib.pyplot as plt\n",
    "import numpy as np\n",
    "%matplotlib inline"
   ]
  },
  {
   "cell_type": "code",
   "execution_count": 77,
   "metadata": {},
   "outputs": [],
   "source": [
    "train = pd.read_csv(\"data_sets/lab_4_train.csv\")\n",
    "test = pd.read_csv(\"data_sets/lab_4_test.csv\")"
   ]
  },
  {
   "cell_type": "code",
   "execution_count": 78,
   "metadata": {},
   "outputs": [],
   "source": [
    "# transform B/M labels to ints, 1 = Malignant, 0 = Benign\n",
    "\n",
    "def category_to_code(dataframe):\n",
    "    # categorical values get assigned in ascending order from 0\n",
    "    dataframe['diagnosis'] = pd.Categorical(dataframe['diagnosis'])\n",
    "    dataframe['diagnosis_code'] = dataframe.diagnosis.cat.codes\n",
    "    return dataframe\n",
    "\n",
    "\n",
    "# test correct assignment\n",
    "train = category_to_code(train)\n",
    "test = category_to_code(test)\n",
    "\n",
    "assert train[train['diagnosis'].isin(['B'])]['diagnosis_code'].sum() == 0\n",
    "assert train[train['diagnosis'].isin(['M'])]['diagnosis_code'].sum() > 0\n",
    "assert test[test['diagnosis'].isin(['B'])]['diagnosis_code'].sum() == 0\n",
    "assert test[test['diagnosis'].isin(['M'])]['diagnosis_code'].sum() > 0\n",
    "\n"
   ]
  },
  {
   "cell_type": "code",
   "execution_count": 119,
   "metadata": {},
   "outputs": [
    {
     "data": {
      "text/plain": [
       "LogisticRegression(C=1.0, class_weight=None, dual=False, fit_intercept=True,\n",
       "          intercept_scaling=1, max_iter=10000, multi_class='warn',\n",
       "          n_jobs=None, penalty='l2', random_state=None, solver='lbfgs',\n",
       "          tol=0.0001, verbose=0, warm_start=False)"
      ]
     },
     "execution_count": 119,
     "metadata": {},
     "output_type": "execute_result"
    }
   ],
   "source": [
    "from sklearn.linear_model import LogisticRegression\n",
    "from sklearn import metrics\n",
    "\n",
    "features = train.columns.tolist()\n",
    "features.remove('diagnosis_code')\n",
    "features.remove('diagnosis')\n",
    "logreg = LogisticRegression(solver='lbfgs',max_iter=10000)\n",
    "logreg.fit(train[features], train['diagnosis_code'])"
   ]
  },
  {
   "cell_type": "code",
   "execution_count": 120,
   "metadata": {},
   "outputs": [
    {
     "name": "stdout",
     "output_type": "stream",
     "text": [
      "Accuracy of logistic regression classifier on test set: 0.88\n"
     ]
    }
   ],
   "source": [
    "y_pred = logreg.predict(test[features])\n",
    "y_true = test['diagnosis_code']\n",
    "print('Accuracy of logistic regression classifier on test set: {:.2f}'.format(logreg.score(test[features], y_true)))\n"
   ]
  },
  {
   "cell_type": "code",
   "execution_count": 121,
   "metadata": {},
   "outputs": [
    {
     "data": {
      "text/plain": [
       "4.106025157383022"
      ]
     },
     "execution_count": 121,
     "metadata": {},
     "output_type": "execute_result"
    }
   ],
   "source": [
    "#compute error \n",
    "metrics.log_loss(y_true, y_pred)"
   ]
  },
  {
   "cell_type": "code",
   "execution_count": 122,
   "metadata": {},
   "outputs": [
    {
     "name": "stdout",
     "output_type": "stream",
     "text": [
      "              precision    recall  f1-score   support\n",
      "\n",
      "           0       0.86      0.97      0.91        90\n",
      "           1       0.93      0.74      0.82        53\n",
      "\n",
      "   micro avg       0.88      0.88      0.88       143\n",
      "   macro avg       0.89      0.85      0.87       143\n",
      "weighted avg       0.89      0.88      0.88       143\n",
      "\n"
     ]
    }
   ],
   "source": [
    "from sklearn.metrics import classification_report\n",
    "print(classification_report(test['diagnosis_code'], y_pred))"
   ]
  },
  {
   "cell_type": "code",
   "execution_count": 123,
   "metadata": {},
   "outputs": [
    {
     "data": {
      "text/plain": [
       "<matplotlib.axes._subplots.AxesSubplot at 0x7f7beb0aeba8>"
      ]
     },
     "execution_count": 123,
     "metadata": {},
     "output_type": "execute_result"
    },
    {
     "data": {
      "image/png": "[encoded data removed]",
      "text/plain": [
       "<Figure size 432x288 with 1 Axes>"
      ]
     },
     "metadata": {
      "needs_background": "light"
     },
     "output_type": "display_data"
    }
   ],
   "source": [
    "# plot predictions, sigmoid\n",
    "\n",
    "test['predictions_proba'] = logreg.predict_proba(test[features])[:,1]\n",
    "sns.scatterplot(x=\"radius_mean\", y=\"predictions_proba\", data=test)"
   ]
  },
  {
   "cell_type": "code",
   "execution_count": 124,
   "metadata": {},
   "outputs": [
    {
     "data": {
      "text/plain": [
       "<matplotlib.axes._subplots.AxesSubplot at 0x7f7beaa95198>"
      ]
     },
     "execution_count": 124,
     "metadata": {},
     "output_type": "execute_result"
    },
    {
     "data": {
      "image/png": "[encoded data removed]",
      "text/plain": [
       "<Figure size 432x288 with 1 Axes>"
      ]
     },
     "metadata": {
      "needs_background": "light"
     },
     "output_type": "display_data"
    }
   ],
   "source": [
    "#regularization\n",
    "logreg2 = LogisticRegression(solver='lbfgs', penalty=\"l2\", C=10000000000, max_iter=10000)\n",
    "logreg2.fit(train[features], train['diagnosis_code'])\n",
    "test['predictions_proba_2'] = logreg2.predict_proba(test[features])[:,1]\n",
    "sns.scatterplot(x=\"radius_mean\", y=\"predictions_proba_2\", data=test)"
   ]
  },
  {
   "cell_type": "code",
   "execution_count": 125,
   "metadata": {},
   "outputs": [
    {
     "name": "stdout",
     "output_type": "stream",
     "text": [
      "log loss of regularized logistic regression classifier on test set: 2.90\n",
      "Accuracy of regularized logistic regression classifier on test set: 0.92\n"
     ]
    }
   ],
   "source": [
    "y_pred2 = logreg2.predict(test[features])\n",
    "print('log loss of regularized logistic regression classifier on test set: {:.2f}'.format(metrics.log_loss(y_true, y_pred2)))\n",
    "print('Accuracy of regularized logistic regression classifier on test set: {:.2f}'.format(logreg2.score(test[features], y_true)))\n"
   ]
  },
  {
   "cell_type": "code",
   "execution_count": 86,
   "metadata": {},
   "outputs": [],
   "source": [
    "#bias v variance"
   ]
  },
  {
   "cell_type": "code",
   "execution_count": null,
   "metadata": {},
   "outputs": [],
   "source": []
  }
 ],
 "metadata": {
  "kernelspec": {
   "display_name": "Python 3",
   "language": "python",
   "name": "python3"
  },
  "language_info": {
   "codemirror_mode": {
    "name": "ipython",
    "version": 3
   },
   "file_extension": ".py",
   "mimetype": "text/x-python",
   "name": "python",
   "nbconvert_exporter": "python",
   "pygments_lexer": "ipython3",
   "version": "3.6.7"
  }
 },
 "nbformat": 4,
 "nbformat_minor": 1
}
