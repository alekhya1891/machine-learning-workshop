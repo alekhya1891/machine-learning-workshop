{
 "cells": [
  {
   "cell_type": "code",
   "execution_count": 5,
   "metadata": {},
   "outputs": [],
   "source": [
    "import pandas as pd\n",
    "import seaborn as sns"
   ]
  },
  {
   "cell_type": "markdown",
   "metadata": {},
   "source": [
    "intro text into what we're about to do"
   ]
  },
  {
   "cell_type": "code",
   "execution_count": 2,
   "metadata": {},
   "outputs": [
    {
     "name": "stdout",
     "output_type": "stream",
     "text": [
      "         0  1      2      3       4       5        6        7       8   \\\n",
      "0    842302  M  17.99  10.38  122.80  1001.0  0.11840  0.27760  0.3001   \n",
      "1    842517  M  20.57  17.77  132.90  1326.0  0.08474  0.07864  0.0869   \n",
      "2  84300903  M  19.69  21.25  130.00  1203.0  0.10960  0.15990  0.1974   \n",
      "3  84348301  M  11.42  20.38   77.58   386.1  0.14250  0.28390  0.2414   \n",
      "4  84358402  M  20.29  14.34  135.10  1297.0  0.10030  0.13280  0.1980   \n",
      "\n",
      "        9    ...        22     23      24      25      26      27      28  \\\n",
      "0  0.14710   ...     25.38  17.33  184.60  2019.0  0.1622  0.6656  0.7119   \n",
      "1  0.07017   ...     24.99  23.41  158.80  1956.0  0.1238  0.1866  0.2416   \n",
      "2  0.12790   ...     23.57  25.53  152.50  1709.0  0.1444  0.4245  0.4504   \n",
      "3  0.10520   ...     14.91  26.50   98.87   567.7  0.2098  0.8663  0.6869   \n",
      "4  0.10430   ...     22.54  16.67  152.20  1575.0  0.1374  0.2050  0.4000   \n",
      "\n",
      "       29      30       31  \n",
      "0  0.2654  0.4601  0.11890  \n",
      "1  0.1860  0.2750  0.08902  \n",
      "2  0.2430  0.3613  0.08758  \n",
      "3  0.2575  0.6638  0.17300  \n",
      "4  0.1625  0.2364  0.07678  \n",
      "\n",
      "[5 rows x 32 columns]\n"
     ]
    }
   ],
   "source": [
    "# read in data from local file path, print out first 5 rows\n",
    "\n",
    "data = pd.read_csv(\"data_sets/lab_1_data.csv\", header=None)\n",
    "print(data.head(n=5))"
   ]
  },
  {
   "cell_type": "markdown",
   "metadata": {},
   "source": [
    "according to data scource information the first two columns represent patient ID and \n",
    "Diagnosis and the following columns (3-32) represent three types of  measurments for the following features:\n",
    "    'radius',\n",
    "    'texture',\n",
    "    'perimeter',\n",
    "    'area',\n",
    "    'smoothness',\n",
    "    'compactness',\n",
    "    'concavity',\n",
    "    'concave_points',\n",
    "    'symmetry',\n",
    "    'fractal_dimension'\n",
    "   \n",
    "Create the column names with the above information\n"
   ]
  },
  {
   "cell_type": "code",
   "execution_count": 3,
   "metadata": {},
   "outputs": [
    {
     "name": "stdout",
     "output_type": "stream",
     "text": [
      "                 id  radius_mean  texture_mean  perimeter_mean    area_mean  \\\n",
      "count  5.690000e+02   569.000000    569.000000      569.000000   569.000000   \n",
      "mean   3.037183e+07    14.127292     19.289649       91.969033   654.889104   \n",
      "std    1.250206e+08     3.524049      4.301036       24.298981   351.914129   \n",
      "min    8.670000e+03     6.981000      9.710000       43.790000   143.500000   \n",
      "25%    8.692180e+05    11.700000     16.170000       75.170000   420.300000   \n",
      "50%    9.060240e+05    13.370000     18.840000       86.240000   551.100000   \n",
      "75%    8.813129e+06    15.780000     21.800000      104.100000   782.700000   \n",
      "max    9.113205e+08    28.110000     39.280000      188.500000  2501.000000   \n",
      "\n",
      "       smoothness_mean  compactness_mean  concavity_mean  concave_points_mean  \\\n",
      "count       569.000000        569.000000      569.000000           569.000000   \n",
      "mean          0.096360          0.104341        0.088799             0.048919   \n",
      "std           0.014064          0.052813        0.079720             0.038803   \n",
      "min           0.052630          0.019380        0.000000             0.000000   \n",
      "25%           0.086370          0.064920        0.029560             0.020310   \n",
      "50%           0.095870          0.092630        0.061540             0.033500   \n",
      "75%           0.105300          0.130400        0.130700             0.074000   \n",
      "max           0.163400          0.345400        0.426800             0.201200   \n",
      "\n",
      "       symmetry_mean           ...             radius_worst  texture_worst  \\\n",
      "count     569.000000           ...               569.000000     569.000000   \n",
      "mean        0.181162           ...                16.269190      25.677223   \n",
      "std         0.027414           ...                 4.833242       6.146258   \n",
      "min         0.106000           ...                 7.930000      12.020000   \n",
      "25%         0.161900           ...                13.010000      21.080000   \n",
      "50%         0.179200           ...                14.970000      25.410000   \n",
      "75%         0.195700           ...                18.790000      29.720000   \n",
      "max         0.304000           ...                36.040000      49.540000   \n",
      "\n",
      "       perimeter_worst   area_worst  smoothness_worst  compactness_worst  \\\n",
      "count       569.000000   569.000000        569.000000         569.000000   \n",
      "mean        107.261213   880.583128          0.132369           0.254265   \n",
      "std          33.602542   569.356993          0.022832           0.157336   \n",
      "min          50.410000   185.200000          0.071170           0.027290   \n",
      "25%          84.110000   515.300000          0.116600           0.147200   \n",
      "50%          97.660000   686.500000          0.131300           0.211900   \n",
      "75%         125.400000  1084.000000          0.146000           0.339100   \n",
      "max         251.200000  4254.000000          0.222600           1.058000   \n",
      "\n",
      "       concavity_worst  concave_points_worst  symmetry_worst  \\\n",
      "count       569.000000            569.000000      569.000000   \n",
      "mean          0.272188              0.114606        0.290076   \n",
      "std           0.208624              0.065732        0.061867   \n",
      "min           0.000000              0.000000        0.156500   \n",
      "25%           0.114500              0.064930        0.250400   \n",
      "50%           0.226700              0.099930        0.282200   \n",
      "75%           0.382900              0.161400        0.317900   \n",
      "max           1.252000              0.291000        0.663800   \n",
      "\n",
      "       fractal_dimension_worst  \n",
      "count               569.000000  \n",
      "mean                  0.083946  \n",
      "std                   0.018061  \n",
      "min                   0.055040  \n",
      "25%                   0.071460  \n",
      "50%                   0.080040  \n",
      "75%                   0.092080  \n",
      "max                   0.207500  \n",
      "\n",
      "[8 rows x 31 columns]\n"
     ]
    }
   ],
   "source": [
    "# initialize column list, add identity, diagonosis and feature measurement columns\n",
    "\n",
    "data_set_columns = []\n",
    "\n",
    "identity_and_diagnosis = ['id', 'diagnosis']\n",
    "\n",
    "feature_types = [\n",
    "    'radius',\n",
    "    'texture',\n",
    "    'perimeter',\n",
    "    'area',\n",
    "    'smoothness',\n",
    "    'compactness',\n",
    "    'concavity',\n",
    "    'concave_points',\n",
    "    'symmetry',\n",
    "    'fractal_dimension'\n",
    "]\n",
    "\n",
    "measurement_types = [\n",
    "    'mean',\n",
    "    'standard_error',\n",
    "    'worst'\n",
    "]\n",
    "\n",
    "#add the identity columns\n",
    "data_set_columns.extend(identity_and_diagnosis)\n",
    "\n",
    "#add the feature columns for each measurement type\n",
    "for measurement in measurement_types:\n",
    "    for feature in feature_types:\n",
    "        data_set_columns.append('_'.join([feature, measurement]))    \n",
    "        \n",
    "# set column names for breast cancer data set\n",
    "data.columns = data_set_columns\n",
    "print(data.describe())"
   ]
  },
  {
   "cell_type": "markdown",
   "metadata": {},
   "source": [
    "essentially we have 10 features per patient and three different measurments for each feature. We can see there are 569 total \n",
    "some more information about what this data represents and a bar plot of the two categories"
   ]
  },
  {
   "cell_type": "code",
   "execution_count": 6,
   "metadata": {},
   "outputs": [
    {
     "data": {
      "text/plain": [
       "<matplotlib.axes._subplots.AxesSubplot at 0x7f23bc6b8978>"
      ]
     },
     "execution_count": 6,
     "metadata": {},
     "output_type": "execute_result"
    },
    {
     "data": {
      "image/png": "[encoded data removed]",
      "text/plain": [
       "<Figure size 432x288 with 1 Axes>"
      ]
     },
     "metadata": {
      "needs_background": "light"
     },
     "output_type": "display_data"
    }
   ],
   "source": [
    "sns.countplot(data['diagnosis'])"
   ]
  },
  {
   "cell_type": "code",
   "execution_count": 25,
   "metadata": {},
   "outputs": [],
   "source": [
    "data.to_csv(\"data_sets/data_with_column_names.csv\", index=False)"
   ]
  }
 ],
 "metadata": {
  "kernelspec": {
   "display_name": "Python 3",
   "language": "python",
   "name": "python3"
  },
  "language_info": {
   "codemirror_mode": {
    "name": "ipython",
    "version": 3
   },
   "file_extension": ".py",
   "mimetype": "text/x-python",
   "name": "python",
   "nbconvert_exporter": "python",
   "pygments_lexer": "ipython3",
   "version": "3.6.7"
  }
 },
 "nbformat": 4,
 "nbformat_minor": 1
}
