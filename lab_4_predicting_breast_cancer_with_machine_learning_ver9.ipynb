{
 "cells": [
  {
   "cell_type": "markdown",
   "metadata": {},
   "source": [
    "# Lab 4: Predicting breast cancer with machine learning\n",
    "\n",
    "In this lab we'll read up our training and test data to create a logistic regression model. We'll use different techniques to evaluate the model and use the model for prediction on a held-out dataset. "
   ]
  },
  {
   "cell_type": "markdown",
   "metadata": {},
   "source": [
    "#### Libraries used in this lab:\n",
    "[pandas docs](https://pandas.pydata.org/pandas-docs/stable/)\n",
    "\n",
    "[seaborn docs](https://seaborn.pydata.org/)\n",
    "\n",
    "[matplotlib docs](https://matplotlib.org/contents.html)\n",
    "\n",
    "[numpy docs](https://docs.scipy.org/doc/numpy-1.15.1/reference/index.html)\n",
    "\n",
    "[sklearn docs](https://scikit-learn.org/stable/documentation.html)"
   ]
  },
  {
   "cell_type": "code",
   "execution_count": 18,
   "metadata": {},
   "outputs": [],
   "source": [
    "import pandas as pd\n",
    "import seaborn as sns\n",
    "import matplotlib.pyplot as plt\n",
    "import numpy as np\n",
    "import sklearn\n",
    "%matplotlib inline"
   ]
  },
  {
   "cell_type": "code",
   "execution_count": 19,
   "metadata": {},
   "outputs": [],
   "source": [
    "train = pd.read_csv(\"data_sets/lab_4_train.csv\")\n",
    "test = pd.read_csv(\"data_sets/lab_4_test.csv\")"
   ]
  },
  {
   "cell_type": "markdown",
   "metadata": {},
   "source": [
    "notes about transforming target value into 1/0 from M/B to fascilitate modeling and evaluation methods"
   ]
  },
  {
   "cell_type": "code",
   "execution_count": 20,
   "metadata": {},
   "outputs": [
    {
     "data": {
      "text/html": [
       "<div>\n",
       "<style scoped>\n",
       "    .dataframe tbody tr th:only-of-type {\n",
       "        vertical-align: middle;\n",
       "    }\n",
       "\n",
       "    .dataframe tbody tr th {\n",
       "        vertical-align: top;\n",
       "    }\n",
       "\n",
       "    .dataframe thead th {\n",
       "        text-align: right;\n",
       "    }\n",
       "</style>\n",
       "<table border=\"1\" class=\"dataframe\">\n",
       "  <thead>\n",
       "    <tr style=\"text-align: right;\">\n",
       "      <th></th>\n",
       "      <th>diagnosis</th>\n",
       "      <th>radius_mean</th>\n",
       "      <th>texture_mean</th>\n",
       "      <th>smoothness_mean</th>\n",
       "      <th>compactness_mean</th>\n",
       "      <th>symmetry_mean</th>\n",
       "      <th>radius_standard_error</th>\n",
       "      <th>texture_standard_error</th>\n",
       "      <th>smoothness_standard_error</th>\n",
       "      <th>compactness_standard_error</th>\n",
       "      <th>symmetry_standard_error</th>\n",
       "      <th>diagnosis_code</th>\n",
       "    </tr>\n",
       "  </thead>\n",
       "  <tbody>\n",
       "    <tr>\n",
       "      <th>0</th>\n",
       "      <td>M</td>\n",
       "      <td>19.170</td>\n",
       "      <td>24.80</td>\n",
       "      <td>0.09740</td>\n",
       "      <td>0.24580</td>\n",
       "      <td>0.2397</td>\n",
       "      <td>0.9555</td>\n",
       "      <td>3.5680</td>\n",
       "      <td>0.003139</td>\n",
       "      <td>0.08297</td>\n",
       "      <td>0.04484</td>\n",
       "      <td>1</td>\n",
       "    </tr>\n",
       "    <tr>\n",
       "      <th>1</th>\n",
       "      <td>B</td>\n",
       "      <td>12.220</td>\n",
       "      <td>20.04</td>\n",
       "      <td>0.10960</td>\n",
       "      <td>0.11520</td>\n",
       "      <td>0.2124</td>\n",
       "      <td>0.1811</td>\n",
       "      <td>0.7959</td>\n",
       "      <td>0.006272</td>\n",
       "      <td>0.02198</td>\n",
       "      <td>0.01320</td>\n",
       "      <td>0</td>\n",
       "    </tr>\n",
       "    <tr>\n",
       "      <th>2</th>\n",
       "      <td>M</td>\n",
       "      <td>20.160</td>\n",
       "      <td>19.66</td>\n",
       "      <td>0.08020</td>\n",
       "      <td>0.08564</td>\n",
       "      <td>0.1928</td>\n",
       "      <td>0.5925</td>\n",
       "      <td>0.6863</td>\n",
       "      <td>0.004536</td>\n",
       "      <td>0.01376</td>\n",
       "      <td>0.02193</td>\n",
       "      <td>1</td>\n",
       "    </tr>\n",
       "    <tr>\n",
       "      <th>3</th>\n",
       "      <td>B</td>\n",
       "      <td>8.888</td>\n",
       "      <td>14.64</td>\n",
       "      <td>0.09783</td>\n",
       "      <td>0.15310</td>\n",
       "      <td>0.1902</td>\n",
       "      <td>0.5262</td>\n",
       "      <td>0.8522</td>\n",
       "      <td>0.017210</td>\n",
       "      <td>0.09368</td>\n",
       "      <td>0.02541</td>\n",
       "      <td>0</td>\n",
       "    </tr>\n",
       "    <tr>\n",
       "      <th>4</th>\n",
       "      <td>B</td>\n",
       "      <td>16.170</td>\n",
       "      <td>16.07</td>\n",
       "      <td>0.09880</td>\n",
       "      <td>0.14380</td>\n",
       "      <td>0.1990</td>\n",
       "      <td>0.1745</td>\n",
       "      <td>0.4890</td>\n",
       "      <td>0.004510</td>\n",
       "      <td>0.01812</td>\n",
       "      <td>0.01934</td>\n",
       "      <td>0</td>\n",
       "    </tr>\n",
       "  </tbody>\n",
       "</table>\n",
       "</div>"
      ],
      "text/plain": [
       "  diagnosis  radius_mean  texture_mean  smoothness_mean  compactness_mean  \\\n",
       "0         M       19.170         24.80          0.09740           0.24580   \n",
       "1         B       12.220         20.04          0.10960           0.11520   \n",
       "2         M       20.160         19.66          0.08020           0.08564   \n",
       "3         B        8.888         14.64          0.09783           0.15310   \n",
       "4         B       16.170         16.07          0.09880           0.14380   \n",
       "\n",
       "   symmetry_mean  radius_standard_error  texture_standard_error  \\\n",
       "0         0.2397                 0.9555                  3.5680   \n",
       "1         0.2124                 0.1811                  0.7959   \n",
       "2         0.1928                 0.5925                  0.6863   \n",
       "3         0.1902                 0.5262                  0.8522   \n",
       "4         0.1990                 0.1745                  0.4890   \n",
       "\n",
       "   smoothness_standard_error  compactness_standard_error  \\\n",
       "0                   0.003139                     0.08297   \n",
       "1                   0.006272                     0.02198   \n",
       "2                   0.004536                     0.01376   \n",
       "3                   0.017210                     0.09368   \n",
       "4                   0.004510                     0.01812   \n",
       "\n",
       "   symmetry_standard_error  diagnosis_code  \n",
       "0                  0.04484               1  \n",
       "1                  0.01320               0  \n",
       "2                  0.02193               1  \n",
       "3                  0.02541               0  \n",
       "4                  0.01934               0  "
      ]
     },
     "execution_count": 20,
     "metadata": {},
     "output_type": "execute_result"
    }
   ],
   "source": [
    "# transform B/M labels to ints, 1 = Malignant, 0 = Benign\n",
    "le = sklearn.preprocessing.LabelEncoder()\n",
    "le.fit(train['diagnosis'])\n",
    "train['diagnosis_code'] = le.transform(train['diagnosis']) \n",
    "test['diagnosis_code'] = le.transform(test['diagnosis']) \n",
    "\n",
    "test.head()"
   ]
  },
  {
   "cell_type": "markdown",
   "metadata": {},
   "source": [
    "notes about executing a logistic regression with all the features we've selected and with the new target values"
   ]
  },
  {
   "cell_type": "code",
   "execution_count": 21,
   "metadata": {},
   "outputs": [
    {
     "data": {
      "text/plain": [
       "LogisticRegression(C=1.0, class_weight=None, dual=False, fit_intercept=True,\n",
       "          intercept_scaling=1, max_iter=10000, multi_class='warn',\n",
       "          n_jobs=None, penalty='l2', random_state=None, solver='lbfgs',\n",
       "          tol=0.0001, verbose=0, warm_start=False)"
      ]
     },
     "execution_count": 21,
     "metadata": {},
     "output_type": "execute_result"
    }
   ],
   "source": [
    "from sklearn.linear_model import LogisticRegression\n",
    "from sklearn import metrics\n",
    "\n",
    "features = train.columns.tolist()\n",
    "features.remove('diagnosis_code')\n",
    "features.remove('diagnosis')\n",
    "logreg = LogisticRegression(solver='lbfgs',max_iter=10000)\n",
    "logreg.fit(train[features], train['diagnosis_code'])"
   ]
  },
  {
   "cell_type": "markdown",
   "metadata": {},
   "source": [
    "notes on metrics we're looking at, error and accuracy etc."
   ]
  },
  {
   "cell_type": "code",
   "execution_count": 22,
   "metadata": {},
   "outputs": [
    {
     "name": "stdout",
     "output_type": "stream",
     "text": [
      "log loss of logistic regression classifier on test set: 4.11\n",
      "Accuracy of logistic regression classifier on test set: 0.88\n",
      "              precision    recall  f1-score   support\n",
      "\n",
      "           0       0.86      0.97      0.91        90\n",
      "           1       0.93      0.74      0.82        53\n",
      "\n",
      "   micro avg       0.88      0.88      0.88       143\n",
      "   macro avg       0.89      0.85      0.87       143\n",
      "weighted avg       0.89      0.88      0.88       143\n",
      "\n"
     ]
    }
   ],
   "source": [
    "y_pred = logreg.predict(test[features])\n",
    "y_true = test['diagnosis_code']\n",
    "# print('Accuracy of logistic regression classifier on test set: {:.2f}'.format(logreg.score(test[features], y_true)))\n",
    "print('log loss of logistic regression classifier on test set: {:.2f}'.format(metrics.log_loss(y_true, y_pred)))\n",
    "print('Accuracy of logistic regression classifier on test set: {:.2f}'.format(logreg.score(test[features], y_true)))\n",
    "\n",
    "from sklearn.metrics import classification_report\n",
    "print(classification_report(test['diagnosis_code'], y_pred))"
   ]
  },
  {
   "cell_type": "markdown",
   "metadata": {},
   "source": [
    "if we plot the probabilities what do we see? does the sigmoid shape give us the best discrimiatino between classes?"
   ]
  },
  {
   "cell_type": "code",
   "execution_count": 23,
   "metadata": {},
   "outputs": [
    {
     "data": {
      "text/plain": [
       "<matplotlib.axes._subplots.AxesSubplot at 0x7fb171c8f080>"
      ]
     },
     "execution_count": 23,
     "metadata": {},
     "output_type": "execute_result"
    },
    {
     "data": {
      "image/png": "[encoded data removed]",
      "text/plain": [
       "<Figure size 432x288 with 1 Axes>"
      ]
     },
     "metadata": {
      "needs_background": "light"
     },
     "output_type": "display_data"
    }
   ],
   "source": [
    "# plot predictions, sigmoid\n",
    "\n",
    "test['predictions_proba'] = logreg.predict_proba(test[features])[:,1]\n",
    "sns.scatterplot(x=\"radius_mean\", y=\"predictions_proba\", hue = \"diagnosis\", data=test)"
   ]
  },
  {
   "cell_type": "markdown",
   "metadata": {},
   "source": [
    "try out a few different values for C, can you make accuracy go up and error go down? why?"
   ]
  },
  {
   "cell_type": "code",
   "execution_count": 24,
   "metadata": {},
   "outputs": [
    {
     "data": {
      "text/plain": [
       "<matplotlib.axes._subplots.AxesSubplot at 0x7fb171bf1c18>"
      ]
     },
     "execution_count": 24,
     "metadata": {},
     "output_type": "execute_result"
    },
    {
     "data": {
      "image/png": "[encoded data removed]",
      "text/plain": [
       "<Figure size 432x288 with 1 Axes>"
      ]
     },
     "metadata": {
      "needs_background": "light"
     },
     "output_type": "display_data"
    }
   ],
   "source": [
    "#regularization\n",
    "logreg2 = LogisticRegression(solver='lbfgs', penalty=\"l2\", C=10000000000, max_iter=10000)\n",
    "logreg2.fit(train[features], train['diagnosis_code'])\n",
    "test['predictions_proba_2'] = logreg2.predict_proba(test[features])[:,1]\n",
    "sns.scatterplot(x=\"radius_mean\", y=\"predictions_proba_2\", hue = \"diagnosis\", data=test)"
   ]
  },
  {
   "cell_type": "code",
   "execution_count": 25,
   "metadata": {},
   "outputs": [
    {
     "name": "stdout",
     "output_type": "stream",
     "text": [
      "log loss of regularized logistic regression classifier on test set: 2.90\n",
      "Accuracy of regularized logistic regression classifier on test set: 0.92\n"
     ]
    }
   ],
   "source": [
    "y_pred2 = logreg2.predict(test[features])\n",
    "print('log loss of regularized logistic regression classifier on test set: {:.2f}'.format(metrics.log_loss(y_true, y_pred2)))\n",
    "print('Accuracy of regularized logistic regression classifier on test set: {:.2f}'.format(logreg2.score(test[features], y_true)))\n"
   ]
  },
  {
   "cell_type": "code",
   "execution_count": 86,
   "metadata": {},
   "outputs": [],
   "source": [
    "#bias v variance"
   ]
  },
  {
   "cell_type": "code",
   "execution_count": null,
   "metadata": {},
   "outputs": [],
   "source": []
  }
 ],
 "metadata": {
  "kernelspec": {
   "display_name": "Python 3",
   "language": "python",
   "name": "python3"
  },
  "language_info": {
   "codemirror_mode": {
    "name": "ipython",
    "version": 3
   },
   "file_extension": ".py",
   "mimetype": "text/x-python",
   "name": "python",
   "nbconvert_exporter": "python",
   "pygments_lexer": "ipython3",
   "version": "3.6.7"
  }
 },
 "nbformat": 4,
 "nbformat_minor": 1
}
