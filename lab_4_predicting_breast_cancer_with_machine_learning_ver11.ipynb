{
 "cells": [
  {
   "cell_type": "markdown",
   "metadata": {},
   "source": [
    "# Lab 4: Predicting breast cancer with machine learning\n",
    "\n",
    "In this lab we'll read up our training and test data to create a logistic regression model. We'll use different techniques to evaluate the model and use the model for prediction on a held-out dataset. "
   ]
  },
  {
   "cell_type": "markdown",
   "metadata": {},
   "source": [
    "#### Libraries used in this lab:\n",
    "[pandas docs](https://pandas.pydata.org/pandas-docs/stable/)\n",
    "\n",
    "[seaborn docs](https://seaborn.pydata.org/)\n",
    "\n",
    "[matplotlib docs](https://matplotlib.org/contents.html)\n",
    "\n",
    "[numpy docs](https://docs.scipy.org/doc/numpy-1.15.1/reference/index.html)\n",
    "\n",
    "[sklearn docs](https://scikit-learn.org/stable/documentation.html)"
   ]
  },
  {
   "cell_type": "code",
   "execution_count": 2,
   "metadata": {},
   "outputs": [],
   "source": [
    "import pandas as pd\n",
    "import seaborn as sns\n",
    "import matplotlib.pyplot as plt\n",
    "import numpy as np\n",
    "import sklearn\n",
    "%matplotlib inline"
   ]
  },
  {
   "cell_type": "code",
   "execution_count": 3,
   "metadata": {},
   "outputs": [],
   "source": [
    "# read in data prepared from lab 2, split into two data sets\n",
    "train = pd.read_csv(\"data_sets/train.csv\")\n",
    "test = pd.read_csv(\"data_sets/test.csv\")"
   ]
  },
  {
   "cell_type": "markdown",
   "metadata": {},
   "source": [
    "## Creating a Logistic Regression Model\n",
    "\n",
    "In this section we use the [LogisticRegression classifier](https://scikit-learn.org/stable/modules/generated/sklearn.linear_model.LogisticRegression.html) from scikit-learn library. We'll start with the default classifier settings which we will tune later on."
   ]
  },
  {
   "cell_type": "code",
   "execution_count": 14,
   "metadata": {},
   "outputs": [
    {
     "data": {
      "text/plain": [
       "LogisticRegression(C=1.0, class_weight=None, dual=False, fit_intercept=True,\n",
       "          intercept_scaling=1, max_iter=100, multi_class='warn',\n",
       "          n_jobs=None, penalty='l2', random_state=None, solver='lbfgs',\n",
       "          tol=0.0001, verbose=0, warm_start=False)"
      ]
     },
     "execution_count": 14,
     "metadata": {},
     "output_type": "execute_result"
    }
   ],
   "source": [
    "# create list of features, careful to remove diagnosis columns \n",
    "features = train.columns.tolist()\n",
    "features.remove('diagnosis')\n",
    "features.remove('diagnosis_code')\n",
    "\n",
    "# fit model\n",
    "from sklearn.linear_model import LogisticRegression\n",
    "logreg = LogisticRegression(solver='lbfgs')\n",
    "logreg.fit(train[features], train['diagnosis_code'])"
   ]
  },
  {
   "cell_type": "markdown",
   "metadata": {},
   "source": [
    "## Evaluate model on test set\n",
    "\n",
    "Use held out test data to evaluate model for accuracy, error, and other metrics. Essentially we are comparing the predicted class against the true class for each example in the test set. "
   ]
  },
  {
   "cell_type": "code",
   "execution_count": 17,
   "metadata": {},
   "outputs": [
    {
     "name": "stdout",
     "output_type": "stream",
     "text": [
      "log loss (error) on test set: 3.14\n",
      "Accuracy of model on test set: 0.91\n",
      "Precision of model on test set: 0.88\n",
      "Recall of model on test set: 0.86\n"
     ]
    }
   ],
   "source": [
    "# create arrays for test predictions and test labels\n",
    "test_pred = logreg.predict(test[features])\n",
    "test_true = test['diagnosis_code']\n",
    "\n",
    "# error and accuracy of model\n",
    "from sklearn import metrics\n",
    "print('log loss (error) on test set: {:.2f}'.format(metrics.log_loss(test_true, test_pred)))\n",
    "print('Accuracy of model on test set: {:.2f}'.format(metrics.accuracy_score(test_true, test_pred)))\n",
    "print('Precision of model on test set: {:.2f}'.format(metrics.precision_score(test_true, test_pred)))\n",
    "print('Recall of model on test set: {:.2f}'.format(metrics.recall_score(test_true, test_pred)))"
   ]
  },
  {
   "cell_type": "markdown",
   "metadata": {},
   "source": [
    "The metrics above indicate that we have made a good start to creating a breast cancer predictve model. We'll attempt to improve these numbers futher in following sections"
   ]
  },
  {
   "cell_type": "markdown",
   "metadata": {},
   "source": [
    "## Visualize Sigmoid Curve: Plot prediction probabilities by tumor type\n",
    "\n",
    "In the lecture we reviewed the sigmoid function as it relates to making binary classificaiton. Below is the plot from the lecture.\n",
    "<img src=\"images/sigmoid.png\" style=\"height:500px\">\n",
    "\n",
    "In the following section we'll plot the test set prediction probabilities against the `radius_mean` dimension. The s-like curve represents presentes a visualization of the sigmoid curve. "
   ]
  },
  {
   "cell_type": "code",
   "execution_count": null,
   "metadata": {},
   "outputs": [],
   "source": [
    "# create a scatter plot of prediction probabilities vs radius_mean\n",
    "test['predictions_proba'] = logreg.predict_proba(test[features])[:,1]\n",
    "sns.scatterplot(x=\"radius_mean\", y=\"predictions_proba\", hue = \"diagnosis\", data=test)"
   ]
  },
  {
   "cell_type": "markdown",
   "metadata": {},
   "source": [
    "try out a few different values for C, can you make accuracy go up and error go down? why?"
   ]
  },
  {
   "cell_type": "code",
   "execution_count": 32,
   "metadata": {},
   "outputs": [
    {
     "data": {
      "text/plain": [
       "<matplotlib.axes._subplots.AxesSubplot at 0x7f9479ede7b8>"
      ]
     },
     "execution_count": 32,
     "metadata": {},
     "output_type": "execute_result"
    },
    {
     "data": {
      "image/png": "[encoded data removed]",
      "text/plain": [
       "<Figure size 432x288 with 1 Axes>"
      ]
     },
     "metadata": {
      "needs_background": "light"
     },
     "output_type": "display_data"
    }
   ],
   "source": [
    "#regularization\n",
    "logreg2 = LogisticRegression(solver='lbfgs', penalty=\"l2\", C=10000000000, max_iter=10000)\n",
    "logreg2.fit(train[features], train['diagnosis_code'])\n",
    "test['predictions_proba_2'] = logreg2.predict_proba(test[features])[:,1]\n",
    "sns.scatterplot(x=\"radius_mean\", y=\"predictions_proba_2\", hue = \"diagnosis\", data=test)"
   ]
  },
  {
   "cell_type": "code",
   "execution_count": 25,
   "metadata": {},
   "outputs": [
    {
     "name": "stdout",
     "output_type": "stream",
     "text": [
      "log loss of regularized logistic regression classifier on test set: 2.90\n",
      "Accuracy of regularized logistic regression classifier on test set: 0.92\n"
     ]
    }
   ],
   "source": [
    "y_pred2 = logreg2.predict(test[features])\n",
    "print('log loss of regularized logistic regression classifier on test set: {:.2f}'.format(metrics.log_loss(y_true, y_pred2)))\n",
    "print('Accuracy of regularized logistic regression classifier on test set: {:.2f}'.format(logreg2.score(test[features], y_true)))\n"
   ]
  },
  {
   "cell_type": "code",
   "execution_count": 86,
   "metadata": {},
   "outputs": [],
   "source": [
    "#bias v variance"
   ]
  },
  {
   "cell_type": "code",
   "execution_count": null,
   "metadata": {},
   "outputs": [],
   "source": []
  }
 ],
 "metadata": {
  "kernelspec": {
   "display_name": "Python 3",
   "language": "python",
   "name": "python3"
  },
  "language_info": {
   "codemirror_mode": {
    "name": "ipython",
    "version": 3
   },
   "file_extension": ".py",
   "mimetype": "text/x-python",
   "name": "python",
   "nbconvert_exporter": "python",
   "pygments_lexer": "ipython3",
   "version": "3.6.7"
  }
 },
 "nbformat": 4,
 "nbformat_minor": 1
}
